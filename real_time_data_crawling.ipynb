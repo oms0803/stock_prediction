{
 "cells": [
  {
   "cell_type": "markdown",
   "metadata": {},
   "source": [
    "## Data Crawling\n",
    "source : https://jeongwookie.github.io/2019/03/18/190318-naver-finance-data-crawling-using-python/"
   ]
  },
  {
   "cell_type": "code",
   "execution_count": 2,
   "metadata": {},
   "outputs": [],
   "source": [
    "import requests\n",
    "from bs4 import BeautifulSoup"
   ]
  },
  {
   "cell_type": "code",
   "execution_count": 16,
   "metadata": {},
   "outputs": [],
   "source": [
    "#url - 에이치엘비 Naver Finance page\n",
    "url = \"https://finance.naver.com/item/main.nhn?code=028300\"\n",
    "result = requests.get(url)\n",
    "bs_obj = BeautifulSoup(result.content, 'html.parser')"
   ]
  },
  {
   "cell_type": "code",
   "execution_count": 17,
   "metadata": {},
   "outputs": [],
   "source": [
    "no_today = bs_obj.find('p', {\"class\":\"no_today\"}) # 태그 p, 속성값 no_today 찾기\n",
    "blind = no_today.find('span', {\"class\":\"blind\"}) # 태그 span, 속성값 blind 찾기\n",
    "now_price = blind.text"
   ]
  },
  {
   "cell_type": "code",
   "execution_count": 18,
   "metadata": {},
   "outputs": [
    {
     "data": {
      "text/plain": [
       "'102,400'"
      ]
     },
     "execution_count": 18,
     "metadata": {},
     "output_type": "execute_result"
    }
   ],
   "source": [
    "now_price"
   ]
  },
  {
   "cell_type": "code",
   "execution_count": 19,
   "metadata": {},
   "outputs": [],
   "source": [
    "no_exday = bs_obj.find('p', {\"class\":\"no_exday\"})\n",
    "ex_blind = no_exday.find('span',{\"class\":\"blind\"})"
   ]
  },
  {
   "cell_type": "code",
   "execution_count": 20,
   "metadata": {},
   "outputs": [
    {
     "data": {
      "text/plain": [
       "'3,500'"
      ]
     },
     "execution_count": 20,
     "metadata": {},
     "output_type": "execute_result"
    }
   ],
   "source": [
    "ex_blind.text"
   ]
  },
  {
   "cell_type": "code",
   "execution_count": 22,
   "metadata": {},
   "outputs": [
    {
     "name": "stdout",
     "output_type": "stream",
     "text": [
      "{'open': '184,200', 'close': '183,600', 'low': '183,200', 'high': '187,000'}\n",
      "{'open': '56,100', 'close': '56,000', 'low': '55,600', 'high': '56,500'}\n",
      "{'open': '181,500', 'close': '180,500', 'low': '180,000', 'high': '183,000'}\n"
     ]
    }
   ],
   "source": [
    "import requests\n",
    "from bs4 import BeautifulSoup\n",
    " \n",
    "def get_bs_obj(company_code):\n",
    "    url = \"https://finance.naver.com/item/main.nhn?code=\" + company_code\n",
    "    result = requests.get(url)\n",
    "    bs_obj = BeautifulSoup(result.content, \"html.parser\")\n",
    "    return bs_obj\n",
    " \n",
    "def get_candle_chart(company_code):\n",
    "    bs_obj = get_bs_obj(company_code)\n",
    " \n",
    "    # close 종가(전일)\n",
    "    td_first = bs_obj.find(\"td\", {\"class\": \"first\"})  # 태그 td, 속성값 first 찾기\n",
    "    blind = td_first.find(\"span\", {\"class\": \"blind\"})  # 태그 span, 속성값 blind 찾기\n",
    "    close = blind.text\n",
    " \n",
    "    # high 고가\n",
    "    table = bs_obj.find(\"table\", {\"class\": \"no_info\"})  # 태그 table, 속성값 no_info 찾기\n",
    "    trs = table.find_all(\"tr\")  # tr을 list로 []\n",
    "    first_tr = trs[0]  # 첫 번째 tr 지정\n",
    "    tds = first_tr.find_all(\"td\")  # 첫 번째 tr 안에서 td를 list로\n",
    "    second_tds = tds[1]  # 두 번째 td 지정\n",
    "    high = second_tds.find(\"span\", {\"class\": \"blind\"}).text\n",
    " \n",
    "    # open 시가\n",
    "    second_tr = trs[1]  # 두 번째 tr 지정\n",
    "    tds_second_tr = second_tr.find_all(\"td\")  # 두 번째 tr 안에서 td를 list로\n",
    "    first_td_in_second_tr = tds_second_tr[0]  # 첫 번째 td 지정\n",
    "    open = first_td_in_second_tr.find(\"span\", {\"class\": \"blind\"}).text\n",
    " \n",
    "    # low 저가\n",
    "    second_td_in_second_tr = tds_second_tr[1]  # 두 번째 td 지정\n",
    "    low = second_td_in_second_tr.find(\"span\", {\"class\": \"blind\"}).text\n",
    " \n",
    "    return {\"close\": close, \"high\": high, \"open\": open, \"low\": low}\n",
    " \n",
    "# 펄어비스 회사 코드는 \"263750\"\n",
    "# 삼성전자 회사 코드는 \"005930\"\n",
    "# 셀트리온 회사 코드는 \"068270\"\n",
    "company_codes = [\"263750\", \"005930\", \"068270\"]\n",
    " \n",
    "for item in company_codes:\n",
    "    candle_chart = get_candle_chart(item)\n",
    "    print(candle_chart)"
   ]
  },
  {
   "cell_type": "code",
   "execution_count": null,
   "metadata": {},
   "outputs": [],
   "source": []
  }
 ],
 "metadata": {
  "kernelspec": {
   "display_name": "Python 3",
   "language": "python",
   "name": "python3"
  },
  "language_info": {
   "codemirror_mode": {
    "name": "ipython",
    "version": 3
   },
   "file_extension": ".py",
   "mimetype": "text/x-python",
   "name": "python",
   "nbconvert_exporter": "python",
   "pygments_lexer": "ipython3",
   "version": "3.5.4"
  }
 },
 "nbformat": 4,
 "nbformat_minor": 2
}
